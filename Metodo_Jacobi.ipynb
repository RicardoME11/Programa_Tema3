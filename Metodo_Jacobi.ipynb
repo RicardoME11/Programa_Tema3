{
 "cells": [
  {
   "cell_type": "raw",
   "id": "boolean-review",
   "metadata": {},
   "source": [
    "##Metodo de Jacobi"
   ]
  },
  {
   "cell_type": "code",
   "execution_count": 1,
   "id": "recreational-trace",
   "metadata": {},
   "outputs": [],
   "source": [
    "import numpy as np\n",
    "from sympy import*\n",
    "from IPython.display import display"
   ]
  },
  {
   "cell_type": "code",
   "execution_count": 3,
   "id": "sporting-primary",
   "metadata": {},
   "outputs": [
    {
     "name": "stdout",
     "output_type": "stream",
     "text": [
      "Ingrese los valores de la ecuacion\n"
     ]
    },
    {
     "name": "stdin",
     "output_type": "stream",
     "text": [
      "x11=  10\n",
      "x12=  -1\n",
      "x13 =  2\n",
      "x14 =  0\n",
      "r1=  6\n",
      "x21 =  -1\n",
      "x22 =  11\n",
      "x23 =  -1\n",
      "x24 =  3\n",
      "r2 = 25\n",
      "x31 =  2\n",
      "x32 =  -1\n",
      "x33 =  10\n",
      "x34 =  -1\n",
      "r3 =  -11\n",
      "x41 =  0\n",
      "x42 =  3\n",
      "x43 =  -1\n",
      "x44 =  8\n",
      "r4 =  15\n"
     ]
    }
   ],
   "source": [
    "print(\"Ingrese los valores de la ecuacion\")\n",
    "x11=float(input(\"x11= \"))\n",
    "x12=float(input(\"x12= \"))\n",
    "x13=float(input(\"x13 = \"))\n",
    "x14=float(input(\"x14 = \"))\n",
    "r1=float(input(\"r1= \"))\n",
    "x21=float(input(\"x21 = \"))\n",
    "x22=float(input(\"x22 = \"))\n",
    "x23=float(input(\"x23 = \"))\n",
    "x24=float(input(\"x24 = \"))\n",
    "r2=float(input(\"r2 =\"))\n",
    "x31=float(input(\"x31 = \"))\n",
    "x32=float(input(\"x32 = \"))\n",
    "x33=float(input(\"x33 = \"))\n",
    "x34=float(input(\"x34 = \"))\n",
    "r3=float(input(\"r3 = \"))\n",
    "x41=float(input(\"x41 = \"))\n",
    "x42=float(input(\"x42 = \"))\n",
    "x43=float(input(\"x43 = \"))\n",
    "x44=float(input(\"x44 = \"))\n",
    "r4=float(input(\"r4 = \"))\n",
    "\n",
    "\n",
    "def inversa(xi,x):\n",
    "        xi=xi*-1\n",
    "        return xi/x\n",
    "\n",
    "x12=inversa(x12,x11)\n",
    "x13=inversa(x13,x11)\n",
    "x14=inversa(x14,x11)\n",
    "x21=inversa(x21,x22)\n",
    "x23=inversa(x23,x22)\n",
    "x24=inversa(x24,x22)\n",
    "x31=inversa(x31,x33)\n",
    "x32=inversa(x32,x33)\n",
    "x34=inversa(x34,x33)\n",
    "x41=inversa(x41,x44)\n",
    "x42=inversa(x42,x44)\n",
    "x43=inversa(x43,x44)\n",
    "\n",
    "r1=r1/x11\n",
    "r2=r2/x22\n",
    "r3=r3/x33\n",
    "r4=r4/x44\n",
    "\n",
    "\n",
    "#Definimos la matriz T\n",
    "T = np.array([[0,x12,x13,x14],[x21,0,x23,x24],[x31,x32,0,x34],[x41,x42,x43,0]])\n",
    "c = np.array([r1,r2,r3,r4])\n",
    "x = np.array([0,0,0,0]) #vector de valores iniciales\n",
    "erroraceptado=0.01"
   ]
  },
  {
   "cell_type": "code",
   "execution_count": 9,
   "id": "sitting-burlington",
   "metadata": {},
   "outputs": [
    {
     "name": "stdout",
     "output_type": "stream",
     "text": [
      "Tamaño de la matriz T  (4, 4)\n",
      "Tamaño de la matriz C  (4,)\n",
      "\n",
      "iteraciones|       x1         |        x2        |        x3       |     x4\n",
      "1 .-        [0.999942423275899, 2.00008477458516, -1.00006832719127, 1.00010850201193]\n"
     ]
    }
   ],
   "source": [
    "print(\"Tamaño de la matriz T \", T.shape)\n",
    "print(\"Tamaño de la matriz C \", c.shape)\n",
    "error=1\n",
    "print()\n",
    "print(\"iteraciones|       x1         |        x2        |        x3       |     x4\" )\n",
    "num=0\n",
    "while error>0.01:\n",
    "    resultado=np.dot(T,x) + c\n",
    "    num=num+1\n",
    "    print(num,\".-       \", simplify(resultado))\n",
    "    numerador=np.amax(abs((resultado-x)))\n",
    "    denominador=np.amax(abs(resultado))\n",
    "    error=numerador/denominador\n",
    "    x=resultado\n"
   ]
  },
  {
   "cell_type": "code",
   "execution_count": null,
   "id": "characteristic-entry",
   "metadata": {},
   "outputs": [],
   "source": [
    "print(\"error = \", error)"
   ]
  },
  {
   "cell_type": "code",
   "execution_count": null,
   "id": "trying-discretion",
   "metadata": {},
   "outputs": [],
   "source": []
  }
 ],
 "metadata": {
  "kernelspec": {
   "display_name": "Python 3",
   "language": "python",
   "name": "python3"
  },
  "language_info": {
   "codemirror_mode": {
    "name": "ipython",
    "version": 3
   },
   "file_extension": ".py",
   "mimetype": "text/x-python",
   "name": "python",
   "nbconvert_exporter": "python",
   "pygments_lexer": "ipython3",
   "version": "3.8.5"
  }
 },
 "nbformat": 4,
 "nbformat_minor": 5
}
